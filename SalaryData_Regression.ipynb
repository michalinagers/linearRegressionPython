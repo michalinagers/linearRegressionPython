{
  "nbformat": 4,
  "nbformat_minor": 0,
  "metadata": {
    "colab": {
      "provenance": [],
      "include_colab_link": true
    },
    "kernelspec": {
      "name": "python3",
      "display_name": "Python 3"
    },
    "language_info": {
      "name": "python"
    }
  },
  "cells": [
    {
      "cell_type": "markdown",
      "metadata": {
        "id": "view-in-github",
        "colab_type": "text"
      },
      "source": [
        "<a href=\"https://colab.research.google.com/github/michalinagers/linearRegressionPython/blob/main/SalaryData_Regression.ipynb\" target=\"_parent\"><img src=\"https://colab.research.google.com/assets/colab-badge.svg\" alt=\"Open In Colab\"/></a>"
      ]
    },
    {
      "cell_type": "markdown",
      "source": [
        "# **Week 8**"
      ],
      "metadata": {
        "id": "AocHEoZNcStq"
      }
    },
    {
      "cell_type": "code",
      "source": [
        "from google.colab import drive\n",
        "drive.mount('/content/drive')"
      ],
      "metadata": {
        "colab": {
          "base_uri": "https://localhost:8080/"
        },
        "id": "lMLe_5wk7Peb",
        "outputId": "b6cea689-a8d3-4ca1-a7f5-cb96a3776ea7"
      },
      "execution_count": null,
      "outputs": [
        {
          "output_type": "stream",
          "name": "stdout",
          "text": [
            "Drive already mounted at /content/drive; to attempt to forcibly remount, call drive.mount(\"/content/drive\", force_remount=True).\n"
          ]
        }
      ]
    },
    {
      "cell_type": "markdown",
      "source": [
        "# **Program 8.1**"
      ],
      "metadata": {
        "id": "PjuNvJQncOqC"
      }
    },
    {
      "cell_type": "markdown",
      "source": [
        "# **Aim: Simple Linear Regression on Salary_Data.csv dataset.**\n",
        "\n",
        " In this task, you are expected to predict the \"Salary\" based on \"experience\" using Linear Regression. To accomplish this, you will work with the dataset titled \"Salary_Data.csv\", which is available on BB (Blackboard). You are required to download and utilize this dataset for the analysis.\n",
        "\n",
        " **Note: Before you start working on this file, you must:**\n",
        "\n",
        "1. Download this GoogleColab file to your Google Drive before making any edits.\n",
        "2. Download the Salary_Data.csv dataset file from BB to your GoogleDrive.\n",
        "3. Mount your Google Drive to Google Colab Session.\n",
        "\n"
      ],
      "metadata": {
        "id": "rdwuEhBncZ9n"
      }
    },
    {
      "cell_type": "markdown",
      "source": [
        "About the \"**Salary_Data.csv**\" Dataset\n",
        "\n",
        "The dataset contains the following columns:\n",
        "\n",
        "- **Age:** Represents the employee's age (in years).\n",
        "\n",
        "- **Gender**:Categorical variable indicating the employee’s gender (e.g., Male, Female, Other).\n",
        "\n",
        "- **Education Level**: Describes the highest qualification achieved (e.g., High School, Bachelor’s, Master’s, PhD).\n",
        "\n",
        "\n",
        "- **Job Title**: Indicates the employee’s role or position (e.g., Data Analyst, Software Engineer, Manager).\n",
        "\n",
        "- **Years of Experience**: Shows how many years the employee has worked in their field. Generally, more experience leads to higher pay.\n",
        "\n",
        "- **Salary**:The target variable representing the employee's annual income.\n",
        "Predicted based on factors like age, education, job title, and experience.\n",
        "\n",
        "\n",
        "\n",
        "In this exercise, your main focus will be on understanding how \"Years of experience\" affects the \"Salary\" given to an employee. By implementing linear regression, you will establish a predictive model that estimates salary  based on this one feature i.e., \"Years of Experience\"."
      ],
      "metadata": {
        "id": "BKg0V3xIdvm_"
      }
    },
    {
      "cell_type": "markdown",
      "source": [
        "**1. Import Required Libraries**"
      ],
      "metadata": {
        "id": "8LQo9dUhcJkc"
      }
    },
    {
      "cell_type": "code",
      "source": [
        "\n",
        "# Importing essential libraries for data manipulation, visualization, and linear regression\n",
        "import pandas as pd  # For handling dataframes\n",
        "import matplotlib.pyplot as plt  # For plotting graphs\n",
        "import seaborn as sns  # For enhanced visualizations from seaborn import style\n",
        "from sklearn.model_selection import train_test_split  # To split data into training and testing sets\n",
        "from sklearn.linear_model import LinearRegression  # For performing linear regression\n",
        "from sklearn.metrics import mean_squared_error, r2_score  # To evaluate model performance\n",
        "\n",
        "# Enable inline plotting in Jupyter Notebook\n",
        "%matplotlib inline"
      ],
      "metadata": {
        "id": "_UALpSzF-Bsc"
      },
      "execution_count": null,
      "outputs": []
    },
    {
      "cell_type": "markdown",
      "source": [
        "**2. Load the Dataset**"
      ],
      "metadata": {
        "id": "2xz9HJoRd8vg"
      }
    },
    {
      "cell_type": "code",
      "source": [
        "#Write your code here\n",
        "Salary = pd.read_csv('/content/drive/MyDrive/Salary_Data.csv')"
      ],
      "metadata": {
        "id": "GC5Kvz-Md6cY"
      },
      "execution_count": null,
      "outputs": []
    },
    {
      "cell_type": "markdown",
      "source": [
        "**3. Find the column head in the dataset.**"
      ],
      "metadata": {
        "id": "_ZPFslmhehoP"
      }
    },
    {
      "cell_type": "code",
      "source": [
        "#Write your code here\n",
        "Salary.head()"
      ],
      "metadata": {
        "id": "iErBxabyrKzs",
        "colab": {
          "base_uri": "https://localhost:8080/",
          "height": 206
        },
        "outputId": "dbe66a15-3239-4e8d-8dec-8403caa1adf3"
      },
      "execution_count": null,
      "outputs": [
        {
          "output_type": "execute_result",
          "data": {
            "text/plain": [
              "    Age  Gender Education Level          Job Title  Years of Experience  \\\n",
              "0  32.0    Male      Bachelor's  Software Engineer                  5.0   \n",
              "1  28.0  Female        Master's       Data Analyst                  3.0   \n",
              "2  45.0    Male             PhD     Senior Manager                 15.0   \n",
              "3  36.0  Female      Bachelor's    Sales Associate                  7.0   \n",
              "4  52.0    Male        Master's           Director                 20.0   \n",
              "\n",
              "     Salary  \n",
              "0   90000.0  \n",
              "1   65000.0  \n",
              "2  150000.0  \n",
              "3   60000.0  \n",
              "4  200000.0  "
            ],
            "text/html": [
              "\n",
              "  <div id=\"df-87aea316-9fb0-4b8c-92a5-7ccb0a3ebfbc\" class=\"colab-df-container\">\n",
              "    <div>\n",
              "<style scoped>\n",
              "    .dataframe tbody tr th:only-of-type {\n",
              "        vertical-align: middle;\n",
              "    }\n",
              "\n",
              "    .dataframe tbody tr th {\n",
              "        vertical-align: top;\n",
              "    }\n",
              "\n",
              "    .dataframe thead th {\n",
              "        text-align: right;\n",
              "    }\n",
              "</style>\n",
              "<table border=\"1\" class=\"dataframe\">\n",
              "  <thead>\n",
              "    <tr style=\"text-align: right;\">\n",
              "      <th></th>\n",
              "      <th>Age</th>\n",
              "      <th>Gender</th>\n",
              "      <th>Education Level</th>\n",
              "      <th>Job Title</th>\n",
              "      <th>Years of Experience</th>\n",
              "      <th>Salary</th>\n",
              "    </tr>\n",
              "  </thead>\n",
              "  <tbody>\n",
              "    <tr>\n",
              "      <th>0</th>\n",
              "      <td>32.0</td>\n",
              "      <td>Male</td>\n",
              "      <td>Bachelor's</td>\n",
              "      <td>Software Engineer</td>\n",
              "      <td>5.0</td>\n",
              "      <td>90000.0</td>\n",
              "    </tr>\n",
              "    <tr>\n",
              "      <th>1</th>\n",
              "      <td>28.0</td>\n",
              "      <td>Female</td>\n",
              "      <td>Master's</td>\n",
              "      <td>Data Analyst</td>\n",
              "      <td>3.0</td>\n",
              "      <td>65000.0</td>\n",
              "    </tr>\n",
              "    <tr>\n",
              "      <th>2</th>\n",
              "      <td>45.0</td>\n",
              "      <td>Male</td>\n",
              "      <td>PhD</td>\n",
              "      <td>Senior Manager</td>\n",
              "      <td>15.0</td>\n",
              "      <td>150000.0</td>\n",
              "    </tr>\n",
              "    <tr>\n",
              "      <th>3</th>\n",
              "      <td>36.0</td>\n",
              "      <td>Female</td>\n",
              "      <td>Bachelor's</td>\n",
              "      <td>Sales Associate</td>\n",
              "      <td>7.0</td>\n",
              "      <td>60000.0</td>\n",
              "    </tr>\n",
              "    <tr>\n",
              "      <th>4</th>\n",
              "      <td>52.0</td>\n",
              "      <td>Male</td>\n",
              "      <td>Master's</td>\n",
              "      <td>Director</td>\n",
              "      <td>20.0</td>\n",
              "      <td>200000.0</td>\n",
              "    </tr>\n",
              "  </tbody>\n",
              "</table>\n",
              "</div>\n",
              "    <div class=\"colab-df-buttons\">\n",
              "\n",
              "  <div class=\"colab-df-container\">\n",
              "    <button class=\"colab-df-convert\" onclick=\"convertToInteractive('df-87aea316-9fb0-4b8c-92a5-7ccb0a3ebfbc')\"\n",
              "            title=\"Convert this dataframe to an interactive table.\"\n",
              "            style=\"display:none;\">\n",
              "\n",
              "  <svg xmlns=\"http://www.w3.org/2000/svg\" height=\"24px\" viewBox=\"0 -960 960 960\">\n",
              "    <path d=\"M120-120v-720h720v720H120Zm60-500h600v-160H180v160Zm220 220h160v-160H400v160Zm0 220h160v-160H400v160ZM180-400h160v-160H180v160Zm440 0h160v-160H620v160ZM180-180h160v-160H180v160Zm440 0h160v-160H620v160Z\"/>\n",
              "  </svg>\n",
              "    </button>\n",
              "\n",
              "  <style>\n",
              "    .colab-df-container {\n",
              "      display:flex;\n",
              "      gap: 12px;\n",
              "    }\n",
              "\n",
              "    .colab-df-convert {\n",
              "      background-color: #E8F0FE;\n",
              "      border: none;\n",
              "      border-radius: 50%;\n",
              "      cursor: pointer;\n",
              "      display: none;\n",
              "      fill: #1967D2;\n",
              "      height: 32px;\n",
              "      padding: 0 0 0 0;\n",
              "      width: 32px;\n",
              "    }\n",
              "\n",
              "    .colab-df-convert:hover {\n",
              "      background-color: #E2EBFA;\n",
              "      box-shadow: 0px 1px 2px rgba(60, 64, 67, 0.3), 0px 1px 3px 1px rgba(60, 64, 67, 0.15);\n",
              "      fill: #174EA6;\n",
              "    }\n",
              "\n",
              "    .colab-df-buttons div {\n",
              "      margin-bottom: 4px;\n",
              "    }\n",
              "\n",
              "    [theme=dark] .colab-df-convert {\n",
              "      background-color: #3B4455;\n",
              "      fill: #D2E3FC;\n",
              "    }\n",
              "\n",
              "    [theme=dark] .colab-df-convert:hover {\n",
              "      background-color: #434B5C;\n",
              "      box-shadow: 0px 1px 3px 1px rgba(0, 0, 0, 0.15);\n",
              "      filter: drop-shadow(0px 1px 2px rgba(0, 0, 0, 0.3));\n",
              "      fill: #FFFFFF;\n",
              "    }\n",
              "  </style>\n",
              "\n",
              "    <script>\n",
              "      const buttonEl =\n",
              "        document.querySelector('#df-87aea316-9fb0-4b8c-92a5-7ccb0a3ebfbc button.colab-df-convert');\n",
              "      buttonEl.style.display =\n",
              "        google.colab.kernel.accessAllowed ? 'block' : 'none';\n",
              "\n",
              "      async function convertToInteractive(key) {\n",
              "        const element = document.querySelector('#df-87aea316-9fb0-4b8c-92a5-7ccb0a3ebfbc');\n",
              "        const dataTable =\n",
              "          await google.colab.kernel.invokeFunction('convertToInteractive',\n",
              "                                                    [key], {});\n",
              "        if (!dataTable) return;\n",
              "\n",
              "        const docLinkHtml = 'Like what you see? Visit the ' +\n",
              "          '<a target=\"_blank\" href=https://colab.research.google.com/notebooks/data_table.ipynb>data table notebook</a>'\n",
              "          + ' to learn more about interactive tables.';\n",
              "        element.innerHTML = '';\n",
              "        dataTable['output_type'] = 'display_data';\n",
              "        await google.colab.output.renderOutput(dataTable, element);\n",
              "        const docLink = document.createElement('div');\n",
              "        docLink.innerHTML = docLinkHtml;\n",
              "        element.appendChild(docLink);\n",
              "      }\n",
              "    </script>\n",
              "  </div>\n",
              "\n",
              "\n",
              "<div id=\"df-d5e1bcfe-b527-419d-b767-3187a8418bef\">\n",
              "  <button class=\"colab-df-quickchart\" onclick=\"quickchart('df-d5e1bcfe-b527-419d-b767-3187a8418bef')\"\n",
              "            title=\"Suggest charts\"\n",
              "            style=\"display:none;\">\n",
              "\n",
              "<svg xmlns=\"http://www.w3.org/2000/svg\" height=\"24px\"viewBox=\"0 0 24 24\"\n",
              "     width=\"24px\">\n",
              "    <g>\n",
              "        <path d=\"M19 3H5c-1.1 0-2 .9-2 2v14c0 1.1.9 2 2 2h14c1.1 0 2-.9 2-2V5c0-1.1-.9-2-2-2zM9 17H7v-7h2v7zm4 0h-2V7h2v10zm4 0h-2v-4h2v4z\"/>\n",
              "    </g>\n",
              "</svg>\n",
              "  </button>\n",
              "\n",
              "<style>\n",
              "  .colab-df-quickchart {\n",
              "      --bg-color: #E8F0FE;\n",
              "      --fill-color: #1967D2;\n",
              "      --hover-bg-color: #E2EBFA;\n",
              "      --hover-fill-color: #174EA6;\n",
              "      --disabled-fill-color: #AAA;\n",
              "      --disabled-bg-color: #DDD;\n",
              "  }\n",
              "\n",
              "  [theme=dark] .colab-df-quickchart {\n",
              "      --bg-color: #3B4455;\n",
              "      --fill-color: #D2E3FC;\n",
              "      --hover-bg-color: #434B5C;\n",
              "      --hover-fill-color: #FFFFFF;\n",
              "      --disabled-bg-color: #3B4455;\n",
              "      --disabled-fill-color: #666;\n",
              "  }\n",
              "\n",
              "  .colab-df-quickchart {\n",
              "    background-color: var(--bg-color);\n",
              "    border: none;\n",
              "    border-radius: 50%;\n",
              "    cursor: pointer;\n",
              "    display: none;\n",
              "    fill: var(--fill-color);\n",
              "    height: 32px;\n",
              "    padding: 0;\n",
              "    width: 32px;\n",
              "  }\n",
              "\n",
              "  .colab-df-quickchart:hover {\n",
              "    background-color: var(--hover-bg-color);\n",
              "    box-shadow: 0 1px 2px rgba(60, 64, 67, 0.3), 0 1px 3px 1px rgba(60, 64, 67, 0.15);\n",
              "    fill: var(--button-hover-fill-color);\n",
              "  }\n",
              "\n",
              "  .colab-df-quickchart-complete:disabled,\n",
              "  .colab-df-quickchart-complete:disabled:hover {\n",
              "    background-color: var(--disabled-bg-color);\n",
              "    fill: var(--disabled-fill-color);\n",
              "    box-shadow: none;\n",
              "  }\n",
              "\n",
              "  .colab-df-spinner {\n",
              "    border: 2px solid var(--fill-color);\n",
              "    border-color: transparent;\n",
              "    border-bottom-color: var(--fill-color);\n",
              "    animation:\n",
              "      spin 1s steps(1) infinite;\n",
              "  }\n",
              "\n",
              "  @keyframes spin {\n",
              "    0% {\n",
              "      border-color: transparent;\n",
              "      border-bottom-color: var(--fill-color);\n",
              "      border-left-color: var(--fill-color);\n",
              "    }\n",
              "    20% {\n",
              "      border-color: transparent;\n",
              "      border-left-color: var(--fill-color);\n",
              "      border-top-color: var(--fill-color);\n",
              "    }\n",
              "    30% {\n",
              "      border-color: transparent;\n",
              "      border-left-color: var(--fill-color);\n",
              "      border-top-color: var(--fill-color);\n",
              "      border-right-color: var(--fill-color);\n",
              "    }\n",
              "    40% {\n",
              "      border-color: transparent;\n",
              "      border-right-color: var(--fill-color);\n",
              "      border-top-color: var(--fill-color);\n",
              "    }\n",
              "    60% {\n",
              "      border-color: transparent;\n",
              "      border-right-color: var(--fill-color);\n",
              "    }\n",
              "    80% {\n",
              "      border-color: transparent;\n",
              "      border-right-color: var(--fill-color);\n",
              "      border-bottom-color: var(--fill-color);\n",
              "    }\n",
              "    90% {\n",
              "      border-color: transparent;\n",
              "      border-bottom-color: var(--fill-color);\n",
              "    }\n",
              "  }\n",
              "</style>\n",
              "\n",
              "  <script>\n",
              "    async function quickchart(key) {\n",
              "      const quickchartButtonEl =\n",
              "        document.querySelector('#' + key + ' button');\n",
              "      quickchartButtonEl.disabled = true;  // To prevent multiple clicks.\n",
              "      quickchartButtonEl.classList.add('colab-df-spinner');\n",
              "      try {\n",
              "        const charts = await google.colab.kernel.invokeFunction(\n",
              "            'suggestCharts', [key], {});\n",
              "      } catch (error) {\n",
              "        console.error('Error during call to suggestCharts:', error);\n",
              "      }\n",
              "      quickchartButtonEl.classList.remove('colab-df-spinner');\n",
              "      quickchartButtonEl.classList.add('colab-df-quickchart-complete');\n",
              "    }\n",
              "    (() => {\n",
              "      let quickchartButtonEl =\n",
              "        document.querySelector('#df-d5e1bcfe-b527-419d-b767-3187a8418bef button');\n",
              "      quickchartButtonEl.style.display =\n",
              "        google.colab.kernel.accessAllowed ? 'block' : 'none';\n",
              "    })();\n",
              "  </script>\n",
              "</div>\n",
              "\n",
              "    </div>\n",
              "  </div>\n"
            ],
            "application/vnd.google.colaboratory.intrinsic+json": {
              "type": "dataframe",
              "variable_name": "Salary",
              "summary": "{\n  \"name\": \"Salary\",\n  \"rows\": 6704,\n  \"fields\": [\n    {\n      \"column\": \"Age\",\n      \"properties\": {\n        \"dtype\": \"number\",\n        \"std\": 7.614632626251171,\n        \"min\": 21.0,\n        \"max\": 62.0,\n        \"num_unique_values\": 41,\n        \"samples\": [\n          24.0,\n          27.0,\n          26.0\n        ],\n        \"semantic_type\": \"\",\n        \"description\": \"\"\n      }\n    },\n    {\n      \"column\": \"Gender\",\n      \"properties\": {\n        \"dtype\": \"category\",\n        \"num_unique_values\": 3,\n        \"samples\": [\n          \"Male\",\n          \"Female\",\n          \"Other\"\n        ],\n        \"semantic_type\": \"\",\n        \"description\": \"\"\n      }\n    },\n    {\n      \"column\": \"Education Level\",\n      \"properties\": {\n        \"dtype\": \"category\",\n        \"num_unique_values\": 7,\n        \"samples\": [\n          \"Bachelor's\",\n          \"Master's\",\n          \"High School\"\n        ],\n        \"semantic_type\": \"\",\n        \"description\": \"\"\n      }\n    },\n    {\n      \"column\": \"Job Title\",\n      \"properties\": {\n        \"dtype\": \"category\",\n        \"num_unique_values\": 193,\n        \"samples\": [\n          \"Account Manager\",\n          \"Junior HR Coordinator\",\n          \"Senior Project Manager\"\n        ],\n        \"semantic_type\": \"\",\n        \"description\": \"\"\n      }\n    },\n    {\n      \"column\": \"Years of Experience\",\n      \"properties\": {\n        \"dtype\": \"number\",\n        \"std\": 6.059003056634122,\n        \"min\": 0.0,\n        \"max\": 34.0,\n        \"num_unique_values\": 37,\n        \"samples\": [\n          9.0,\n          16.0,\n          20.0\n        ],\n        \"semantic_type\": \"\",\n        \"description\": \"\"\n      }\n    },\n    {\n      \"column\": \"Salary\",\n      \"properties\": {\n        \"dtype\": \"number\",\n        \"std\": 52786.183910682936,\n        \"min\": 350.0,\n        \"max\": 250000.0,\n        \"num_unique_values\": 444,\n        \"samples\": [\n          101733.0,\n          62807.0,\n          152039.0\n        ],\n        \"semantic_type\": \"\",\n        \"description\": \"\"\n      }\n    }\n  ]\n}"
            }
          },
          "metadata": {},
          "execution_count": 41
        }
      ]
    },
    {
      "cell_type": "markdown",
      "source": [
        "**4. Understand the information of the data**"
      ],
      "metadata": {
        "id": "MVbuv1wAfFGh"
      }
    },
    {
      "cell_type": "code",
      "source": [
        "Salary.info()"
      ],
      "metadata": {
        "id": "EKtFs4afrNLG",
        "colab": {
          "base_uri": "https://localhost:8080/"
        },
        "outputId": "98c0ff18-3ce2-4ef1-8d70-86a5c4c7facd"
      },
      "execution_count": null,
      "outputs": [
        {
          "output_type": "stream",
          "name": "stdout",
          "text": [
            "<class 'pandas.core.frame.DataFrame'>\n",
            "RangeIndex: 6704 entries, 0 to 6703\n",
            "Data columns (total 6 columns):\n",
            " #   Column               Non-Null Count  Dtype  \n",
            "---  ------               --------------  -----  \n",
            " 0   Age                  6702 non-null   float64\n",
            " 1   Gender               6702 non-null   object \n",
            " 2   Education Level      6701 non-null   object \n",
            " 3   Job Title            6702 non-null   object \n",
            " 4   Years of Experience  6701 non-null   float64\n",
            " 5   Salary               6699 non-null   float64\n",
            "dtypes: float64(3), object(3)\n",
            "memory usage: 314.4+ KB\n"
          ]
        }
      ]
    },
    {
      "cell_type": "markdown",
      "source": [
        "**5. Remove column that Linear Regression model cannot use.**\n",
        "\n",
        "Hint: Remove 'Gender','Job Title','Education Level' column because it only has text info that the linear regression model can't use.\n"
      ],
      "metadata": {
        "id": "ZXg-xsjyg3KV"
      }
    },
    {
      "cell_type": "code",
      "source": [
        "experience = Salary[['YearsExperience', 'Age', 'Salary']]\n",
        "experience.head()"
      ],
      "metadata": {
        "id": "JUMtJ7RBrOx0",
        "colab": {
          "base_uri": "https://localhost:8080/",
          "height": 304
        },
        "outputId": "9ea7ae78-cf4d-4001-8c62-e50704521d2b"
      },
      "execution_count": null,
      "outputs": [
        {
          "output_type": "error",
          "ename": "KeyError",
          "evalue": "\"['YearsExperience'] not in index\"",
          "traceback": [
            "\u001b[0;31m---------------------------------------------------------------------------\u001b[0m",
            "\u001b[0;31mKeyError\u001b[0m                                  Traceback (most recent call last)",
            "\u001b[0;32m<ipython-input-43-977e6ceacfc4>\u001b[0m in \u001b[0;36m<cell line: 0>\u001b[0;34m()\u001b[0m\n\u001b[0;32m----> 1\u001b[0;31m \u001b[0mexperience\u001b[0m \u001b[0;34m=\u001b[0m \u001b[0mSalary\u001b[0m\u001b[0;34m[\u001b[0m\u001b[0;34m[\u001b[0m\u001b[0;34m'YearsExperience'\u001b[0m\u001b[0;34m,\u001b[0m \u001b[0;34m'Age'\u001b[0m\u001b[0;34m,\u001b[0m \u001b[0;34m'Salary'\u001b[0m\u001b[0;34m]\u001b[0m\u001b[0;34m]\u001b[0m\u001b[0;34m\u001b[0m\u001b[0;34m\u001b[0m\u001b[0m\n\u001b[0m\u001b[1;32m      2\u001b[0m \u001b[0mexperience\u001b[0m\u001b[0;34m.\u001b[0m\u001b[0mhead\u001b[0m\u001b[0;34m(\u001b[0m\u001b[0;34m)\u001b[0m\u001b[0;34m\u001b[0m\u001b[0;34m\u001b[0m\u001b[0m\n",
            "\u001b[0;32m/usr/local/lib/python3.11/dist-packages/pandas/core/frame.py\u001b[0m in \u001b[0;36m__getitem__\u001b[0;34m(self, key)\u001b[0m\n\u001b[1;32m   4106\u001b[0m             \u001b[0;32mif\u001b[0m \u001b[0mis_iterator\u001b[0m\u001b[0;34m(\u001b[0m\u001b[0mkey\u001b[0m\u001b[0;34m)\u001b[0m\u001b[0;34m:\u001b[0m\u001b[0;34m\u001b[0m\u001b[0;34m\u001b[0m\u001b[0m\n\u001b[1;32m   4107\u001b[0m                 \u001b[0mkey\u001b[0m \u001b[0;34m=\u001b[0m \u001b[0mlist\u001b[0m\u001b[0;34m(\u001b[0m\u001b[0mkey\u001b[0m\u001b[0;34m)\u001b[0m\u001b[0;34m\u001b[0m\u001b[0;34m\u001b[0m\u001b[0m\n\u001b[0;32m-> 4108\u001b[0;31m             \u001b[0mindexer\u001b[0m \u001b[0;34m=\u001b[0m \u001b[0mself\u001b[0m\u001b[0;34m.\u001b[0m\u001b[0mcolumns\u001b[0m\u001b[0;34m.\u001b[0m\u001b[0m_get_indexer_strict\u001b[0m\u001b[0;34m(\u001b[0m\u001b[0mkey\u001b[0m\u001b[0;34m,\u001b[0m \u001b[0;34m\"columns\"\u001b[0m\u001b[0;34m)\u001b[0m\u001b[0;34m[\u001b[0m\u001b[0;36m1\u001b[0m\u001b[0;34m]\u001b[0m\u001b[0;34m\u001b[0m\u001b[0;34m\u001b[0m\u001b[0m\n\u001b[0m\u001b[1;32m   4109\u001b[0m \u001b[0;34m\u001b[0m\u001b[0m\n\u001b[1;32m   4110\u001b[0m         \u001b[0;31m# take() does not accept boolean indexers\u001b[0m\u001b[0;34m\u001b[0m\u001b[0;34m\u001b[0m\u001b[0m\n",
            "\u001b[0;32m/usr/local/lib/python3.11/dist-packages/pandas/core/indexes/base.py\u001b[0m in \u001b[0;36m_get_indexer_strict\u001b[0;34m(self, key, axis_name)\u001b[0m\n\u001b[1;32m   6198\u001b[0m             \u001b[0mkeyarr\u001b[0m\u001b[0;34m,\u001b[0m \u001b[0mindexer\u001b[0m\u001b[0;34m,\u001b[0m \u001b[0mnew_indexer\u001b[0m \u001b[0;34m=\u001b[0m \u001b[0mself\u001b[0m\u001b[0;34m.\u001b[0m\u001b[0m_reindex_non_unique\u001b[0m\u001b[0;34m(\u001b[0m\u001b[0mkeyarr\u001b[0m\u001b[0;34m)\u001b[0m\u001b[0;34m\u001b[0m\u001b[0;34m\u001b[0m\u001b[0m\n\u001b[1;32m   6199\u001b[0m \u001b[0;34m\u001b[0m\u001b[0m\n\u001b[0;32m-> 6200\u001b[0;31m         \u001b[0mself\u001b[0m\u001b[0;34m.\u001b[0m\u001b[0m_raise_if_missing\u001b[0m\u001b[0;34m(\u001b[0m\u001b[0mkeyarr\u001b[0m\u001b[0;34m,\u001b[0m \u001b[0mindexer\u001b[0m\u001b[0;34m,\u001b[0m \u001b[0maxis_name\u001b[0m\u001b[0;34m)\u001b[0m\u001b[0;34m\u001b[0m\u001b[0;34m\u001b[0m\u001b[0m\n\u001b[0m\u001b[1;32m   6201\u001b[0m \u001b[0;34m\u001b[0m\u001b[0m\n\u001b[1;32m   6202\u001b[0m         \u001b[0mkeyarr\u001b[0m \u001b[0;34m=\u001b[0m \u001b[0mself\u001b[0m\u001b[0;34m.\u001b[0m\u001b[0mtake\u001b[0m\u001b[0;34m(\u001b[0m\u001b[0mindexer\u001b[0m\u001b[0;34m)\u001b[0m\u001b[0;34m\u001b[0m\u001b[0;34m\u001b[0m\u001b[0m\n",
            "\u001b[0;32m/usr/local/lib/python3.11/dist-packages/pandas/core/indexes/base.py\u001b[0m in \u001b[0;36m_raise_if_missing\u001b[0;34m(self, key, indexer, axis_name)\u001b[0m\n\u001b[1;32m   6250\u001b[0m \u001b[0;34m\u001b[0m\u001b[0m\n\u001b[1;32m   6251\u001b[0m             \u001b[0mnot_found\u001b[0m \u001b[0;34m=\u001b[0m \u001b[0mlist\u001b[0m\u001b[0;34m(\u001b[0m\u001b[0mensure_index\u001b[0m\u001b[0;34m(\u001b[0m\u001b[0mkey\u001b[0m\u001b[0;34m)\u001b[0m\u001b[0;34m[\u001b[0m\u001b[0mmissing_mask\u001b[0m\u001b[0;34m.\u001b[0m\u001b[0mnonzero\u001b[0m\u001b[0;34m(\u001b[0m\u001b[0;34m)\u001b[0m\u001b[0;34m[\u001b[0m\u001b[0;36m0\u001b[0m\u001b[0;34m]\u001b[0m\u001b[0;34m]\u001b[0m\u001b[0;34m.\u001b[0m\u001b[0munique\u001b[0m\u001b[0;34m(\u001b[0m\u001b[0;34m)\u001b[0m\u001b[0;34m)\u001b[0m\u001b[0;34m\u001b[0m\u001b[0;34m\u001b[0m\u001b[0m\n\u001b[0;32m-> 6252\u001b[0;31m             \u001b[0;32mraise\u001b[0m \u001b[0mKeyError\u001b[0m\u001b[0;34m(\u001b[0m\u001b[0;34mf\"{not_found} not in index\"\u001b[0m\u001b[0;34m)\u001b[0m\u001b[0;34m\u001b[0m\u001b[0;34m\u001b[0m\u001b[0m\n\u001b[0m\u001b[1;32m   6253\u001b[0m \u001b[0;34m\u001b[0m\u001b[0m\n\u001b[1;32m   6254\u001b[0m     \u001b[0;34m@\u001b[0m\u001b[0moverload\u001b[0m\u001b[0;34m\u001b[0m\u001b[0;34m\u001b[0m\u001b[0m\n",
            "\u001b[0;31mKeyError\u001b[0m: \"['YearsExperience'] not in index\""
          ]
        }
      ]
    },
    {
      "cell_type": "markdown",
      "source": [
        "**6. Check for any missing values**"
      ],
      "metadata": {
        "id": "PFtnwQbNfVry"
      }
    },
    {
      "cell_type": "code",
      "source": [
        "experience.isnull().sum()"
      ],
      "metadata": {
        "id": "9wx1LPI7rQQF",
        "colab": {
          "base_uri": "https://localhost:8080/",
          "height": 141
        },
        "outputId": "792a0658-664d-4e9c-9b7a-a7213ea42340"
      },
      "execution_count": null,
      "outputs": [
        {
          "output_type": "error",
          "ename": "NameError",
          "evalue": "name 'experience' is not defined",
          "traceback": [
            "\u001b[0;31m---------------------------------------------------------------------------\u001b[0m",
            "\u001b[0;31mNameError\u001b[0m                                 Traceback (most recent call last)",
            "\u001b[0;32m<ipython-input-36-18b2bf1ad2bf>\u001b[0m in \u001b[0;36m<cell line: 0>\u001b[0;34m()\u001b[0m\n\u001b[0;32m----> 1\u001b[0;31m \u001b[0mexperience\u001b[0m\u001b[0;34m.\u001b[0m\u001b[0misnull\u001b[0m\u001b[0;34m(\u001b[0m\u001b[0;34m)\u001b[0m\u001b[0;34m.\u001b[0m\u001b[0msum\u001b[0m\u001b[0;34m(\u001b[0m\u001b[0;34m)\u001b[0m\u001b[0;34m\u001b[0m\u001b[0;34m\u001b[0m\u001b[0m\n\u001b[0m",
            "\u001b[0;31mNameError\u001b[0m: name 'experience' is not defined"
          ]
        }
      ]
    },
    {
      "cell_type": "markdown",
      "source": [
        "**7. Remove rows containing any null values**"
      ],
      "metadata": {
        "id": "6W6aXCK8fXpK"
      }
    },
    {
      "cell_type": "code",
      "source": [
        "experience = experience.dropna() #remove rows that have null data\n",
        "print(experience.isnull().sum()) #checking if any null values are still present"
      ],
      "metadata": {
        "id": "YpuQ2y90rRup",
        "colab": {
          "base_uri": "https://localhost:8080/",
          "height": 158
        },
        "outputId": "324a74c1-b40b-422c-a5f7-391bc79075e4"
      },
      "execution_count": null,
      "outputs": [
        {
          "output_type": "error",
          "ename": "NameError",
          "evalue": "name 'experience' is not defined",
          "traceback": [
            "\u001b[0;31m---------------------------------------------------------------------------\u001b[0m",
            "\u001b[0;31mNameError\u001b[0m                                 Traceback (most recent call last)",
            "\u001b[0;32m<ipython-input-44-fba7427d70bd>\u001b[0m in \u001b[0;36m<cell line: 0>\u001b[0;34m()\u001b[0m\n\u001b[0;32m----> 1\u001b[0;31m \u001b[0mexperience\u001b[0m \u001b[0;34m=\u001b[0m \u001b[0mexperience\u001b[0m\u001b[0;34m.\u001b[0m\u001b[0mdropna\u001b[0m\u001b[0;34m(\u001b[0m\u001b[0;34m)\u001b[0m \u001b[0;31m#remove rows that have null data\u001b[0m\u001b[0;34m\u001b[0m\u001b[0;34m\u001b[0m\u001b[0m\n\u001b[0m\u001b[1;32m      2\u001b[0m \u001b[0mprint\u001b[0m\u001b[0;34m(\u001b[0m\u001b[0mexperience\u001b[0m\u001b[0;34m.\u001b[0m\u001b[0misnull\u001b[0m\u001b[0;34m(\u001b[0m\u001b[0;34m)\u001b[0m\u001b[0;34m.\u001b[0m\u001b[0msum\u001b[0m\u001b[0;34m(\u001b[0m\u001b[0;34m)\u001b[0m\u001b[0;34m)\u001b[0m \u001b[0;31m#checking if any null values are still present\u001b[0m\u001b[0;34m\u001b[0m\u001b[0;34m\u001b[0m\u001b[0m\n",
            "\u001b[0;31mNameError\u001b[0m: name 'experience' is not defined"
          ]
        }
      ]
    },
    {
      "cell_type": "markdown",
      "source": [
        "**8. Summarise dataset statistical information**"
      ],
      "metadata": {
        "id": "RuFpKDCOhM7G"
      }
    },
    {
      "cell_type": "code",
      "source": [
        "experience.describe()"
      ],
      "metadata": {
        "id": "mgysFaQ5rThQ"
      },
      "execution_count": null,
      "outputs": []
    },
    {
      "cell_type": "markdown",
      "source": [
        "# **Exploratory Data Analysis**"
      ],
      "metadata": {
        "id": "vrf7SaoweI7O"
      }
    },
    {
      "cell_type": "markdown",
      "source": [
        "**9. Create Pair Plots**\n",
        "\n",
        "Create pair plots to explore the types of relationship across the entire dataset."
      ],
      "metadata": {
        "id": "dTMCw8P2hdtf"
      }
    },
    {
      "cell_type": "code",
      "source": [
        "sns.pairplot(Salary)"
      ],
      "metadata": {
        "id": "V0chho4vrVy7"
      },
      "execution_count": null,
      "outputs": []
    },
    {
      "cell_type": "markdown",
      "source": [
        "**10. Find Correlation of all numerical columns.**\n",
        "\n",
        "* **`1.0`**: perfect positive correlation; that is, when one attribute rises, the other attribute rises.\n",
        "* **`-1.0`**: perfect negative correlation; that is, when one attribute rises, the other attribute falls.\n",
        "* **`0.0`**: no correlation; the two columns (are not linearly related)."
      ],
      "metadata": {
        "id": "lSZon-YTh2xR"
      }
    },
    {
      "cell_type": "code",
      "source": [
        "experience.corr() #which column is suitable for your prediction"
      ],
      "metadata": {
        "id": "hkUPRLTIrXzi"
      },
      "execution_count": null,
      "outputs": []
    },
    {
      "cell_type": "markdown",
      "source": [
        "**11. Display the correlation of all columns through Heatmap.**\n",
        "\n",
        "Explore the values obtained in this map to identify the feature whcih is closely related to \"House Price\"."
      ],
      "metadata": {
        "id": "GaGlYRKIiDVU"
      }
    },
    {
      "cell_type": "code",
      "source": [
        "sns.heatmap(experience.corr(), annot=True)"
      ],
      "metadata": {
        "id": "g1rx7u-OrZUh"
      },
      "execution_count": null,
      "outputs": []
    },
    {
      "cell_type": "markdown",
      "source": [
        "# **Training a Linear Regression Model**"
      ],
      "metadata": {
        "id": "XgNDfba9ieGf"
      }
    },
    {
      "cell_type": "markdown",
      "source": [
        "**12. Load Features and Class labels.**"
      ],
      "metadata": {
        "id": "DLClhTwJi5i1"
      }
    },
    {
      "cell_type": "code",
      "source": [
        "x = experience[['Years of Experience']]\n",
        "y = experience['Salary']"
      ],
      "metadata": {
        "id": "yy0-7Np2iy5J",
        "colab": {
          "base_uri": "https://localhost:8080/",
          "height": 158
        },
        "outputId": "e21bb604-e023-473e-b457-9001cace00e1"
      },
      "execution_count": null,
      "outputs": [
        {
          "output_type": "error",
          "ename": "NameError",
          "evalue": "name 'experience' is not defined",
          "traceback": [
            "\u001b[0;31m---------------------------------------------------------------------------\u001b[0m",
            "\u001b[0;31mNameError\u001b[0m                                 Traceback (most recent call last)",
            "\u001b[0;32m<ipython-input-45-ac0aa7e4c4c5>\u001b[0m in \u001b[0;36m<cell line: 0>\u001b[0;34m()\u001b[0m\n\u001b[0;32m----> 1\u001b[0;31m \u001b[0mx\u001b[0m \u001b[0;34m=\u001b[0m \u001b[0mexperience\u001b[0m\u001b[0;34m[\u001b[0m\u001b[0;34m[\u001b[0m\u001b[0;34m'Years of Experience'\u001b[0m\u001b[0;34m]\u001b[0m\u001b[0;34m]\u001b[0m\u001b[0;34m\u001b[0m\u001b[0;34m\u001b[0m\u001b[0m\n\u001b[0m\u001b[1;32m      2\u001b[0m \u001b[0my\u001b[0m \u001b[0;34m=\u001b[0m \u001b[0mexperience\u001b[0m\u001b[0;34m[\u001b[0m\u001b[0;34m'Salary'\u001b[0m\u001b[0;34m]\u001b[0m\u001b[0;34m\u001b[0m\u001b[0;34m\u001b[0m\u001b[0m\n",
            "\u001b[0;31mNameError\u001b[0m: name 'experience' is not defined"
          ]
        }
      ]
    },
    {
      "cell_type": "markdown",
      "source": [
        "**13.Find the shape of  features and label**"
      ],
      "metadata": {
        "id": "ylB1aNjAebuR"
      }
    },
    {
      "cell_type": "code",
      "source": [
        "print(x.shape)\n",
        "print(y.shape)"
      ],
      "metadata": {
        "id": "9tU8Gk5MrbqT"
      },
      "execution_count": null,
      "outputs": []
    },
    {
      "cell_type": "code",
      "source": [
        "#Write your code here"
      ],
      "metadata": {
        "id": "w5Eax9F8rcyy"
      },
      "execution_count": null,
      "outputs": []
    },
    {
      "cell_type": "markdown",
      "source": [
        "**14.  Split Dataset onto training and testing sets.**\n",
        "\n",
        "We will need to first split up our data into an X array that contains the features to train on, and a y array with the target variable, in this case the 'Salary' column.\n"
      ],
      "metadata": {
        "id": "Kf0i0IxNig7y"
      }
    },
    {
      "cell_type": "code",
      "source": [
        "x_train, x_test, y_train, y_test = train_test_split(x, y, test_size=0.2, random_state=42)"
      ],
      "metadata": {
        "id": "3MLKWcJNjFrg"
      },
      "execution_count": null,
      "outputs": []
    },
    {
      "cell_type": "markdown",
      "source": [
        "**15. Create the Model.**"
      ],
      "metadata": {
        "id": "RAfUAwAHjP5Y"
      }
    },
    {
      "cell_type": "code",
      "source": [
        "model = LinearRegression()"
      ],
      "metadata": {
        "id": "Rjm7-CLpjaxT"
      },
      "execution_count": null,
      "outputs": []
    },
    {
      "cell_type": "markdown",
      "source": [
        "**16. Train the Data Model**"
      ],
      "metadata": {
        "id": "vfFGulX-je7q"
      }
    },
    {
      "cell_type": "code",
      "source": [
        "model.fit(x_train, y_train)"
      ],
      "metadata": {
        "id": "gvVIs2bwrgPb"
      },
      "execution_count": null,
      "outputs": []
    },
    {
      "cell_type": "markdown",
      "source": [
        "# **Model Evaluation**"
      ],
      "metadata": {
        "id": "gH9DXJSzjoun"
      }
    },
    {
      "cell_type": "markdown",
      "source": [
        "**17. Find the intercept.**"
      ],
      "metadata": {
        "id": "wD1NrGDmjuz-"
      }
    },
    {
      "cell_type": "code",
      "source": [
        "print(model.intercept_)"
      ],
      "metadata": {
        "id": "D1iR7hWWriX3"
      },
      "execution_count": null,
      "outputs": []
    },
    {
      "cell_type": "markdown",
      "source": [
        "**18. Find the coefficcient.**"
      ],
      "metadata": {
        "id": "hHxL-ASlkY69"
      }
    },
    {
      "cell_type": "code",
      "source": [
        "coeff_df = pd.DataFrame(model.coef_, x.columns, columns=['Coefficient'])\n",
        "coeff_df"
      ],
      "metadata": {
        "id": "7hsUzKXWrklj"
      },
      "execution_count": null,
      "outputs": []
    },
    {
      "cell_type": "markdown",
      "source": [
        "# **Make Predictions from the trained Model**"
      ],
      "metadata": {
        "id": "eqtcWeCgkdh3"
      }
    },
    {
      "cell_type": "markdown",
      "source": [
        "**19. Make salary predictions on test data.**"
      ],
      "metadata": {
        "id": "9_EbU7fnmz4-"
      }
    },
    {
      "cell_type": "code",
      "source": [
        "predictions = model.predict(x_test)\n",
        "print(predictions)"
      ],
      "metadata": {
        "id": "_V5_YTPFrnn3"
      },
      "execution_count": null,
      "outputs": []
    },
    {
      "cell_type": "markdown",
      "source": [
        "**20. Plot the data and the regression line.**\n",
        "\n",
        "- y_test : The test data on which the model was tested.\n",
        "- predictions: Values predicted by the model."
      ],
      "metadata": {
        "id": "GC3CqM7Lm5qq"
      }
    },
    {
      "cell_type": "code",
      "source": [
        "import matplotlib.pyplot as plt\n",
        "import numpy as np\n",
        "\n",
        "plt.figure(figsize=(8, 6))\n",
        "\n",
        "# Scatter plot: Actual vs Predicted values\n",
        "plt.scatter(y_test, predictions, edgecolor='black', alpha=0.7, color='pink', label='Predicted Points')\n",
        "\n",
        "# Regression line (best fit) through predicted vs actual values\n",
        "z = np.polyfit(y_test, predictions, 1)  # Linear fit (degree=1)\n",
        "p = np.poly1d(z)\n",
        "plt.plot(y_test, p(y_test), color='red', linewidth=2, label='Regression Line')\n",
        "\n",
        "# Perfect prediction line (y=x)\n",
        "plt.plot([y_test.min(), y_test.max()], [y_test.min(), y_test.max()], linestyle='--', color='green', linewidth=2, label='Perfect Prediction')\n",
        "\n",
        "# Labels and Title\n",
        "plt.xlabel('Actual Salary (Y Test)', fontsize=12, weight='bold')\n",
        "plt.ylabel('Predicted Salary (Y Pred)', fontsize=12, weight='bold')\n",
        "plt.title('Actual vs Predicted Salary with Regression Line', fontsize=14, weight='bold')\n",
        "\n",
        "plt.legend()\n",
        "plt.grid(True, linestyle='--', alpha=0.4)\n",
        "plt.show()\n"
      ],
      "metadata": {
        "id": "yibPb_RHrsRC"
      },
      "execution_count": null,
      "outputs": []
    },
    {
      "cell_type": "markdown",
      "source": [
        "# **Regression Evaluation Metrics**"
      ],
      "metadata": {
        "id": "TngExZQIkzso"
      }
    },
    {
      "cell_type": "markdown",
      "source": [
        "**21. Calculate evaluation metrics.**\n",
        "\n",
        "Example:\n",
        "- **Mean Absolute Error (MAE):** Determines on average, how much does the salary predictions differ from the actual values. [MAE](https://scikit-learn.org/stable/modules/generated/sklearn.metrics.median_absolute_error.html#sklearn.metrics.median_absolute_error)\n",
        "- **Mean Squared Error (MSE)** :It quantifies how far predictions are from the actual data, with larger errors penalized more due to squaring.[MSE](https://scikit-learn.org/stable/modules/generated/sklearn.metrics.mean_squared_error.html#sklearn.metrics.mean_squared_error)\n",
        "- **Root Mean Squared Error (RMSE)** : Measures the average magnitude of prediction errors in a regression model. It represents how far, on average, the predicted values are from the actual values in the same units as the target variable. Lower RMSE values indicate better predictive accuracy. [RSME](https://scikit-learn.org/stable/modules/generated/sklearn.metrics.root_mean_squared_error.html#sklearn.metrics.root_mean_squared_error)"
      ],
      "metadata": {
        "id": "OxkF6-nUnBdG"
      }
    },
    {
      "cell_type": "code",
      "source": [
        "from sklearn import metrics\n",
        "import numpy as np\n",
        "print('MAE', metrics.mean_absolute_error(y_test, predictions))\n",
        "print('MSE', metrics.mean_squared_error(y_test, predictions))\n",
        "print('RMSE', np.sqrt(metrics.mean_squared_error(y_test, predictions)))"
      ],
      "metadata": {
        "id": "1wcN46porv1j"
      },
      "execution_count": null,
      "outputs": []
    },
    {
      "cell_type": "markdown",
      "source": [
        "**22. Take input from user to make predictions.**\n",
        "\n",
        "Take 'Years of Experience' as input to make a prediction.\n"
      ],
      "metadata": {
        "id": "Mo3jiYLUowbO"
      }
    },
    {
      "cell_type": "code",
      "source": [
        "years_experience = float(input(\"Enter year of experience\"))\n",
        "input_features = np.array([[years_experience]])\n",
        "predicted_salary = model.predict(input_features)\n",
        "print(f\"Predicted Salary for {years_experience} years of experience: ${predicted_salary[0]:.2f}\")"
      ],
      "metadata": {
        "id": "gDnyUgWNrzWp"
      },
      "execution_count": null,
      "outputs": []
    }
  ]
}